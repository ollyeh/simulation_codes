{
 "cells": [
  {
   "cell_type": "markdown",
   "id": "705ae49f-e422-4c6b-babc-30a1f8495c01",
   "metadata": {},
   "source": [
    "# Simulation of an ideal gas"
   ]
  },
  {
   "cell_type": "code",
   "execution_count": null,
   "id": "afd4edbd-3545-4c59-b9a9-97d378fdfe3d",
   "metadata": {},
   "outputs": [],
   "source": [
    "# importing some modules\n",
    "%matplotlib inline \n",
    "import numpy as np\n",
    "import numpy.ma as ma\n",
    "import matplotlib.pyplot as plt\n",
    "# we import the Container object from matplotlib as it will later be useful to collect the Artist objects from the scatter plot and the histogram\n",
    "# this Container can then be easily passed to the ArtistAnimation object to obtain a frame by frame animation\n",
    "from matplotlib.container import Container\n",
    "import matplotlib.animation as animation\n",
    "# tqdm is a module which incorperates a useful progress bar\n",
    "from tqdm import tqdm"
   ]
  },
  {
   "cell_type": "markdown",
   "id": "326fbab3-c5c8-4413-89cf-218f0a3425d9",
   "metadata": {},
   "source": [
    "### Plotting the initial configuration"
   ]
  },
  {
   "cell_type": "code",
   "execution_count": null,
   "id": "0b597876-725d-40fd-81fd-002151b5f036",
   "metadata": {},
   "outputs": [],
   "source": [
    "# specify some initial parameters such as \"number of particles\", \"initial configuration\", \"initial velocities\" and length of the quadratic box\n",
    "n_particles: int = 500\n",
    "trj_init = np.random.uniform(low=35, high=40, size=(n_particles, 2))\n",
    "vel_init = np.random.uniform(low=-20, high=-20, size=(n_particles, 2))\n",
    "length = 100"
   ]
  },
  {
   "cell_type": "code",
   "execution_count": null,
   "id": "41ad55b6-6190-4be8-ba00-785f0ccd57e2",
   "metadata": {},
   "outputs": [],
   "source": [
    "# to get a quick overview of the point particle's initial configuration together with its velocity vectors, we plot\n",
    "fig, ax = plt.subplots(figsize=(5,5))\n",
    "for (r, v) in zip(trj_init, vel_init):\n",
    "    ax.quiver(r[0], r[1], v[0], v[1], color='b', scale=None, width=0.003);\n",
    "    ax.plot(r[0], r[1], 'o', color='gray', markersize=3);\n",
    "    ax.set_xlim(0, length)\n",
    "    ax.set_ylim(0, length)\n",
    "    plt.tight_layout()\n",
    "plt.show()\n",
    "plt.close()"
   ]
  },
  {
   "cell_type": "markdown",
   "id": "251514e2-5ec0-4333-970e-c031081c849b",
   "metadata": {},
   "source": [
    "## Adding the time evolution and the boundary conditions"
   ]
  },
  {
   "cell_type": "code",
   "execution_count": null,
   "id": "0edf92a7-75e2-4930-b06d-8a78c7ce7f06",
   "metadata": {},
   "outputs": [],
   "source": [
    "# as we update the trajectory of every point particle in time steps dt, it is necessary to specify the updates in a step function\n",
    "def step_func(trj, vel, dt, mode):\n",
    "    # periodic boundaries makes use of the mod length\n",
    "    if mode == \"periodic\":\n",
    "        # periodic boundary using mod length\n",
    "        trj = (trj + vel*dt)%length\n",
    "    # reflective boundary requires to flip the velocity's components respectively\n",
    "    elif mode == \"reflective\":\n",
    "        for i in range(len(trj[:, 0])):\n",
    "            if trj[i, 0] <= 0:\n",
    "                vel[i, 0] = -vel[i, 0]\n",
    "            elif trj[i, 0] >= length:\n",
    "                vel[i, 0] = -vel[i, 0]\n",
    "            elif trj[i, 1] <= 0:\n",
    "                vel[i, 1] = -vel[i, 1]\n",
    "            elif trj[i, 1] >= length:\n",
    "                vel[i, 1] = -vel[i, 1]\n",
    "        trj = trj + vel*dt\n",
    "        return trj, vel"
   ]
  },
  {
   "cell_type": "code",
   "execution_count": null,
   "id": "fafef376-fa7a-42b1-ad27-99cd46c4730e",
   "metadata": {},
   "outputs": [],
   "source": [
    "# as we constantly update the trajectory after the plotting and saving, it is crucial to set trj to the initial trajecctory\n",
    "trj = trj_init\n",
    "\n",
    "frames = []\n",
    "fig, ax = plt.subplots(nrows=1, ncols=1, figsize=(5, 5))\n",
    "plt.tight_layout()\n",
    "ax.set_xlim(0, length)\n",
    "ax.set_ylim(0, length)\n",
    "\n",
    "# for every simulation step, plot the point particles\n",
    "for step in range(100):\n",
    "    scatter = ax.scatter(x=trj[:, 0], y=trj[:, 1], s=5, c=\"gray\", clip_on=True)\n",
    "    \n",
    "    # whatever we append to frames must be iterable\n",
    "    # otherwise the ArtistAnimation's ._init_draw() function can't iterate over all artists in one frame and raises a TypeError\n",
    "    frames.append([scatter])\n",
    "    plt.close()\n",
    "    trj, vel = step_func(trj, vel_init, 0.05, mode=\"reflective\")\n"
   ]
  },
  {
   "cell_type": "code",
   "execution_count": null,
   "id": "a9d32091-f218-4d98-8875-86e791a503df",
   "metadata": {},
   "outputs": [],
   "source": [
    "ani = animation.ArtistAnimation(fig, frames, interval=24, blit=False)\n",
    "ani.save(\"ani.mp4\")"
   ]
  },
  {
   "cell_type": "markdown",
   "id": "4daff72d-eace-4332-9d51-1751b6e92c2b",
   "metadata": {},
   "source": [
    "## Equipping the point particles with a volume and implementing elastic collisions"
   ]
  },
  {
   "cell_type": "code",
   "execution_count": null,
   "id": "7281ff72-585f-4bbf-aa37-b4440514a613",
   "metadata": {},
   "outputs": [],
   "source": [
    "# firstly, we want to update the trajectories of all particles, whose absolute trajectory difference is smaller than their collective radii\n",
    "# secondly, after we gave every particle a volume, we can now calculate the velocity of the ith particle after the collision with the jth particle\n",
    "def get_collisions(n_particles, trj, vel):\n",
    "    for i in range(n_particles):\n",
    "        for j in range(n_particles):\n",
    "            # compute the absolute distance between the ith and the jth particle\n",
    "            dist = np.linalg.norm(trj[i, :] - trj[j, :])\n",
    "            # compute the collective radius of compound particle consisting of the ith and the jth particle\n",
    "            radii = rad[i] + rad[j]\n",
    "            \n",
    "            if dist <= radii:\n",
    "                # here we register a collision event between the ith and the jth particle\n",
    "                # calculate the normal between the two particles\n",
    "                # using nan_to_num here is fine because dividing the zero vector by zero should give zero in our physical case\n",
    "                normal = np.nan_to_num((trj[i, :] - trj[j, :])/dist)\n",
    "                # calculate the overlap distance between the two particles\n",
    "                overlap = radii - dist\n",
    "                # shift each particle half of the overlap distance in opposite directions\n",
    "                trj[i, :] += normal*overlap/2\n",
    "                trj[j, :] -= normal*overlap/2\n",
    "                # compute the new absolute distances\n",
    "                # use nan_to_num to turn all nan to 0 (if a collision is too violent, it would kick the particle out of the frame)\n",
    "                dist = np.linalg.norm(trj[i, :] - trj[j, :])\n",
    "                vel[i, :] -= np.nan_to_num(np.dot((vel[i, :] - vel[j, :]), (trj[i, :] - trj[j, :]))/dist**2) *  (trj[i, :] - trj[j, :])\n",
    "                #vel[j, :] += np.nan_to_num(np.dot((vel[j, :] - vel[i, :]), (trj[j, :] - trj[i, :]))/dist**2) *  (trj[j, :] - trj[i, :])\n",
    "    return trj, vel"
   ]
  },
  {
   "cell_type": "code",
   "execution_count": null,
   "id": "0d54943c-c189-4fd0-a425-af55303d480d",
   "metadata": {},
   "outputs": [],
   "source": [
    "# as we update the trajectory of every point particle in time steps dt, it is necessary to specify the updates in a step function\n",
    "def step_func(trj, vel, dt, mode):\n",
    "    trj, vel = get_collisions(n_particles, trj, vel)\n",
    "    # periodic boundaries makes use of the mod length\n",
    "    if mode == \"periodic\":\n",
    "        # periodic boundary using mod length\n",
    "        trj = (trj + vel*dt)%length\n",
    "    # reflective boundary requires to flip the velocity's components respectively\n",
    "    elif mode == \"reflective\":\n",
    "        for i in range(len(trj[:, 0])):\n",
    "            if trj[i, 0] <= rad[i]:\n",
    "                vel[i, 0] = -vel[i, 0]\n",
    "            elif trj[i, 0] >= length - rad[i]:\n",
    "                vel[i, 0] = -vel[i, 0]\n",
    "            elif trj[i, 1] <= rad[i]:\n",
    "                vel[i, 1] = -vel[i, 1]\n",
    "            elif trj[i, 1] >= length - rad[i]:\n",
    "                vel[i, 1] = -vel[i, 1]\n",
    "        trj = trj + vel*dt\n",
    "    return trj, vel"
   ]
  },
  {
   "cell_type": "code",
   "execution_count": null,
   "id": "e5786975-cebd-4d96-abbf-96434c02d8f6",
   "metadata": {},
   "outputs": [],
   "source": [
    "# as we constantly update the trajectory after the plotting and saving, it is crucial to set trj to the initial trajecctory\n",
    "trj = trj_init\n",
    "vel = vel_init\n",
    "\n",
    "# we give each particle a radius\n",
    "rad = np.random.uniform(low=1, high=1, size=n_particles)\n",
    "\n",
    "frames = []\n",
    "fig, ax = plt.subplots(nrows=1, ncols=1, figsize=(5, 5))\n",
    "plt.tight_layout()\n",
    "ax.set_xlim(0, length)\n",
    "ax.set_ylim(0, length)\n",
    "\n",
    "# for every simulation step, plot the point particles\n",
    "for step in range(1000):\n",
    "    scatter = ax.scatter(x=trj[:, 0], y=trj[:, 1], s=4*rad**2, c=rad, clip_on=True)\n",
    "    \n",
    "    # whatever we append to frames must be iterable\n",
    "    # otherwise the ArtistAnimation's ._init_draw() function can't iterate over all artists in one frame and raises a TypeError\n",
    "    frames.append([scatter])\n",
    "    plt.close()\n",
    "    trj, vel = step_func(trj, vel, 0.01, mode=\"periodic\")"
   ]
  },
  {
   "cell_type": "code",
   "execution_count": null,
   "id": "34bdcf4f-dea1-4206-ade8-ca3f1721e9d5",
   "metadata": {},
   "outputs": [],
   "source": [
    "ani = animation.ArtistAnimation(fig, frames, interval=30, blit=False)\n",
    "ani.save(\"ani.mp4\")"
   ]
  },
  {
   "cell_type": "markdown",
   "id": "e40c5a7f-532b-4b0e-a2cb-11beb0822a87",
   "metadata": {},
   "source": [
    "## Adding an impulse histogram"
   ]
  },
  {
   "cell_type": "code",
   "execution_count": null,
   "id": "69b8b930-a9d1-4d02-88d1-1c0499120984",
   "metadata": {},
   "outputs": [],
   "source": [
    "trj = trj_init\n",
    "vel = vel_init\n",
    "\n",
    "# we give each particle a radius\n",
    "rad = np.random.uniform(low=1, high=1, size=n_particles)\n",
    "\n",
    "frames = []\n",
    "fig, ax = plt.subplots(nrows=1, ncols=2, figsize=(10, 5))\n",
    "#plt.tight_layout()\n",
    "ax[0].set_xlim(0, length)\n",
    "ax[0].set_ylim(0, length)\n",
    "ax[1].set_xlabel(\"Velocities [m/s]\")\n",
    "ax[1].set_ylabel(\"Absolute frequency\")\n",
    "for step in range(1000):\n",
    "    scatter = ax[0].scatter(x=trj[:, 0], y=trj[:, 1], s=rad**2, c=\"gray\", clip_on=True)    \n",
    "    n, bins, patches = ax[1].hist(vel[:, 1], bins=100, histtype=\"bar\", color=\"grey\")\n",
    "    objects = patches.get_children()\n",
    "    objects.append(scatter)\n",
    "    \n",
    "    container = Container(objects)\n",
    "    \n",
    "    frames.append(container)\n",
    "    plt.close()\n",
    "    \n",
    "    trj, vel = step_func(trj, vel, 0.05, mode=\"reflective\")"
   ]
  },
  {
   "cell_type": "code",
   "execution_count": null,
   "id": "7eb9e4b5-3bb2-44ec-a484-bec203d7fdb2",
   "metadata": {},
   "outputs": [],
   "source": [
    "ani = animation.ArtistAnimation(fig, frames, interval=30, blit=False)\n",
    "ani.save(\"ani.mp4\")"
   ]
  },
  {
   "cell_type": "markdown",
   "id": "82395d32-7809-4ba3-9323-4373dcec54c8",
   "metadata": {},
   "source": [
    "## Counting the wall collisions to determine the system's pressure"
   ]
  },
  {
   "cell_type": "markdown",
   "id": "b8fd6b69-6aa9-4996-86d4-cc165fd8d3fd",
   "metadata": {},
   "source": [
    "## Confining the particles over time"
   ]
  },
  {
   "cell_type": "code",
   "execution_count": null,
   "id": "a67c9d55-f2e6-49c2-8015-39e6013e5853",
   "metadata": {},
   "outputs": [],
   "source": []
  }
 ],
 "metadata": {
  "kernelspec": {
   "display_name": "Python 3 (ipykernel)",
   "language": "python",
   "name": "python3"
  },
  "language_info": {
   "codemirror_mode": {
    "name": "ipython",
    "version": 3
   },
   "file_extension": ".py",
   "mimetype": "text/x-python",
   "name": "python",
   "nbconvert_exporter": "python",
   "pygments_lexer": "ipython3",
   "version": "3.12.3"
  }
 },
 "nbformat": 4,
 "nbformat_minor": 5
}
